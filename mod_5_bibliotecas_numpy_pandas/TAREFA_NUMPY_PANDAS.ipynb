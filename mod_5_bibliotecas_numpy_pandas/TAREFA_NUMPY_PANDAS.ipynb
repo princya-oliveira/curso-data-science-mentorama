{
 "cells": [
  {
   "cell_type": "code",
   "execution_count": 1,
   "metadata": {},
   "outputs": [],
   "source": [
    "import numpy as np\n",
    "import pandas as pd"
   ]
  },
  {
   "cell_type": "markdown",
   "metadata": {},
   "source": [
    "Considere os arrays numpy X, y abaixo:"
   ]
  },
  {
   "cell_type": "code",
   "execution_count": 2,
   "metadata": {},
   "outputs": [],
   "source": [
    "from sklearn.datasets import load_iris\n",
    "\n",
    "X = load_iris().data\n",
    "y = load_iris().target"
   ]
  },
  {
   "cell_type": "code",
   "execution_count": 3,
   "metadata": {},
   "outputs": [
    {
     "data": {
      "text/plain": [
       "array([[5.1, 3.5, 1.4, 0.2],\n",
       "       [4.9, 3. , 1.4, 0.2],\n",
       "       [4.7, 3.2, 1.3, 0.2],\n",
       "       [4.6, 3.1, 1.5, 0.2],\n",
       "       [5. , 3.6, 1.4, 0.2],\n",
       "       [5.4, 3.9, 1.7, 0.4],\n",
       "       [4.6, 3.4, 1.4, 0.3],\n",
       "       [5. , 3.4, 1.5, 0.2],\n",
       "       [4.4, 2.9, 1.4, 0.2],\n",
       "       [4.9, 3.1, 1.5, 0.1]])"
      ]
     },
     "execution_count": 3,
     "metadata": {},
     "output_type": "execute_result"
    }
   ],
   "source": [
    "X[:10]"
   ]
  },
  {
   "cell_type": "code",
   "execution_count": 4,
   "metadata": {},
   "outputs": [
    {
     "data": {
      "text/plain": [
       "array([0, 0, 0, 0, 0, 0, 0, 0, 0, 0])"
      ]
     },
     "execution_count": 4,
     "metadata": {},
     "output_type": "execute_result"
    }
   ],
   "source": [
    "y[:10]"
   ]
  },
  {
   "cell_type": "code",
   "execution_count": null,
   "metadata": {},
   "outputs": [],
   "source": []
  },
  {
   "cell_type": "raw",
   "metadata": {},
   "source": [
    "__Exercício 1:__ Crie um dataframe df do pandas a partir de X, y.\n",
    "\n",
    "Primeiro, concatene os arrays numpy. Na sequência transforme o array final para um dataframe. Altere o nome das colunas para 'X1', 'X2', 'X3', 'X4' e 'target'."
   ]
  },
  {
   "cell_type": "markdown",
   "metadata": {},
   "source": [
    "__Exercício 2:__ Usando o df criano no exercício 1, calcule qual a média da variável 'X2', para cada valor de target. Dica: Use a função groupby no dataframe df para resolver."
   ]
  },
  {
   "cell_type": "markdown",
   "metadata": {},
   "source": [
    "__Exercício 3:__ Construa um dicionário mapeando os valores:\n",
    "        \n",
    "        0 - 'A'\n",
    "        \n",
    "        1 - 'B'\n",
    "        \n",
    "        2 - 'C'\n",
    "        \n",
    "Usando a função map, crie uma coluna nova no dataframe df chamada 'target_2' com o mapeamento feito. Dica: Use a função map como visto em aula."
   ]
  },
  {
   "cell_type": "markdown",
   "metadata": {},
   "source": [
    "__Exercício 4:__ \n",
    "\n",
    "\n",
    "4.1: Filtre o dataframe df onde X1 é maior do que 6 __ou__ target é diferente de 2 e chame-o de df1. Dica: usar os filtros e os operadores vistos em aula;\n",
    "\n",
    "4.2: Filtre os primeiros 15 índices do dataframe df e chame-o de df2;\n",
    "\n",
    "4.3: Transformando os dataframes df1 e df2 para arrays. Multiplique df1 pelo transposto de df2 (use a função que calcula transposta de matriz) e printe o resultado final. Lembre-se de dropar a coluna target_2 de cada um dos dataframes antes de fazer a mutliplicação."
   ]
  },
  {
   "cell_type": "markdown",
   "metadata": {},
   "source": [
    "__Exercício 5:__ \n",
    "    \n",
    "5.1: Crie uma função que receba um  número inteiro positivo N e retorne um array 0, 1, ..., N. Dica: Use as funções que vimos para criação de arrays;\n",
    "    \n",
    "5.2: Crie uma função que receba um array [0,1, .., N] e retorne o mesmo array, só que com os números em posições aleatórias. Dica: use a função que vimos em aula que faz escolhas aleatórias SEM reposição;\n",
    "\n",
    "5.3: Crie uma função que receba um número inteiro positivo N. Essa função deve retornar um array de tamanho N, cujos valores são números inteiros entre 0 e N-1 e pode haver repetição desses números."
   ]
  },
  {
   "cell_type": "markdown",
   "metadata": {},
   "source": [
    "__Exercício 6:__ Construa uma função divide_dados:\n",
    "        \n",
    "        - recebe um array X de dimensões quaisquer (n,k) e um parâmetro p entre 0 e 1.\n",
    "        - divide o array X em duas partes disjuntas de forma aleatória. Ou seja, crie dois novos arrays, X1 e X2,\n",
    "        onde a dimensão de linhas de X1 somada com a dimensão de linhas de X2 deve ser igual a dimensão de linhas de X.\n",
    "        - interpretando p como percentual, o tamanho de X1 deve ser p*100% do número de linhas de X; enquanto X2 deve ser o resto.\n",
    "        - retorne esses dois arrays.\n",
    "        \n",
    "       "
   ]
  }
 ],
 "metadata": {
  "kernelspec": {
   "display_name": "Python 3",
   "language": "python",
   "name": "python3"
  },
  "language_info": {
   "codemirror_mode": {
    "name": "ipython",
    "version": 3
   },
   "file_extension": ".py",
   "mimetype": "text/x-python",
   "name": "python",
   "nbconvert_exporter": "python",
   "pygments_lexer": "ipython3",
   "version": "3.8.3"
  }
 },
 "nbformat": 4,
 "nbformat_minor": 2
}
